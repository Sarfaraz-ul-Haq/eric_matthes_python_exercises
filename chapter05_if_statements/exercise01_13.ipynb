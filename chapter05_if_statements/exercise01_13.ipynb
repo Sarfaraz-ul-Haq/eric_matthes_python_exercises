{
 "cells": [
  {
   "cell_type": "code",
   "execution_count": 8,
   "metadata": {},
   "outputs": [
    {
     "name": "stdout",
     "output_type": "stream",
     "text": [
      "Is car == 'BMW'? I predict true\n",
      "True\n",
      "\n",
      "Is car == 'Audi'? I predict false\n",
      "False\n",
      "\n",
      "Is fruit == 'guava'? I predict false\n",
      "True\n",
      "\n",
      "Is fruit == 'mango'? I predict true\n",
      "True\n",
      "\n",
      "Is device == 'laptop'? I predict true\n",
      "True\n",
      "\n",
      "Is device == 'mobile'? I predict false\n",
      "True\n",
      "\n",
      "Is food == 'burger'? I predict false\n",
      "True\n",
      "\n",
      "Is food == 'pizza'? I predict true\n",
      "True\n",
      "\n",
      "Is language == 'python'? I predict true\n",
      "True\n",
      "\n",
      "Is language == 'typescript'? I predict false\n",
      "True\n"
     ]
    }
   ],
   "source": [
    "#1 Conditional Tests\n",
    "\n",
    "car: str = 'BMW'\n",
    "\n",
    "print(\"Is car == 'BMW'? I predict true\")\n",
    "print(car == 'BMW')\n",
    "\n",
    "print(\"\\nIs car == 'Audi'? I predict false\")\n",
    "print(car == 'Audi')\n",
    "\n",
    "#-------------------------------------------\n",
    "\n",
    "fruit: str = 'mango'\n",
    "\n",
    "print(\"\\nIs fruit == 'guava'? I predict false\")\n",
    "print(fruit == 'mango')\n",
    "\n",
    "print(\"\\nIs fruit == 'mango'? I predict true\")\n",
    "print(fruit == 'mango')\n",
    "\n",
    "#-------------------------------------------\n",
    "\n",
    "device: str = 'laptop'\n",
    "\n",
    "print(\"\\nIs device == 'laptop'? I predict true\")\n",
    "print(device == 'laptop')\n",
    "\n",
    "print(\"\\nIs device == 'mobile'? I predict false\")\n",
    "print(device == 'laptop')\n",
    "\n",
    "#-------------------------------------------\n",
    "\n",
    "food: str = 'pizza'\n",
    "\n",
    "print(\"\\nIs food == 'burger'? I predict false\")\n",
    "print(food == 'pizza')\n",
    "\n",
    "print(\"\\nIs food == 'pizza'? I predict true\")\n",
    "print(food == 'pizza')\n",
    "\n",
    "#-------------------------------------------\n",
    "\n",
    "language: str = 'python'\n",
    "\n",
    "print(\"\\nIs language == 'python'? I predict true\")\n",
    "print(language == 'python')\n",
    "\n",
    "print(\"\\nIs language == 'typescript'? I predict false\")\n",
    "print(language == 'python')\n",
    "\n",
    "\n",
    "\n"
   ]
  },
  {
   "cell_type": "code",
   "execution_count": 40,
   "metadata": {},
   "outputs": [
    {
     "name": "stdout",
     "output_type": "stream",
     "text": [
      "True\n",
      "False\n",
      "sarfaraz\n",
      "Sarfaraz\n",
      "False\n",
      "True\n",
      "True\n",
      "False\n",
      "True\n",
      "False\n",
      "True\n",
      "False\n",
      "True\n",
      "False\n",
      "True\n",
      "False\n",
      "You are logged in successfully!\n",
      "I don't want to drink soup right now\n",
      "peach is available\n",
      "kiwi is not available\n"
     ]
    }
   ],
   "source": [
    "#2 MORE CONDITIONAL TESTS\n",
    "\n",
    "# Tests for equality and inequality with strings\n",
    "fruit: str = 'guava'\n",
    "print(fruit == 'guava')\n",
    "print(fruit == 'mango')\n",
    "\n",
    "# Tests using the lower() method\n",
    "name: str = 'Sarfaraz'\n",
    "print(name.lower())\n",
    "print(name)\n",
    "\n",
    "# Numerical tests involving equality and inequality, greater than and less \n",
    "# than, greater than or equal to, and less than or equal to\n",
    "n: int = 10\n",
    "n2: int = 40\n",
    "n3: int = 10\n",
    "\n",
    "print(n == n2)\n",
    "print(n == n3)\n",
    "\n",
    "#-------------\n",
    "\n",
    "print(n != n2)\n",
    "print(n != n3)\n",
    "\n",
    "#-------------\n",
    "\n",
    "print(n2 > n)\n",
    "print(n > n2)\n",
    "\n",
    "#------------\n",
    "\n",
    "print(n < n2)\n",
    "print(n2 < n3)\n",
    "\n",
    "#------------\n",
    "\n",
    "print(n >= n3)\n",
    "print(n >= n2)\n",
    "\n",
    "#------------\n",
    "\n",
    "print(n <= n3)\n",
    "print(n2 <= n)\n",
    "\n",
    "# Tests using the and keyword and the or keyword\n",
    "first_name: str = 'Sarfaraz'\n",
    "last_name: str = 'ul Haq'\n",
    "\n",
    "if first_name == 'Sarfaraz' and last_name == 'ul Haq':\n",
    "    print('You are logged in successfully!')\n",
    "\n",
    "#-----------------------------------------------------\n",
    "\n",
    "beverage: str = 'soup'\n",
    "#beverage: str = 'tea'\n",
    "\n",
    "if beverage == ('coffee' or 'tea'): \n",
    "    print(f'I want to drink {beverage}')\n",
    "else:\n",
    "    print(f\"I don't want to drink {beverage} right now\")\n",
    "\n",
    "#------------------------------------------------------\n",
    "\n",
    "# Test whether an item is in a list\n",
    "fruits: list[str] = ['guava', 'strawberries', 'peach', 'apple']\n",
    "\n",
    "if 'peach' in fruits:\n",
    "    print(\"peach is available\")\n",
    "\n",
    "# Test whether an item is not in a list\n",
    "fruits: list[str] = ['guava', 'strawberries', 'peach', 'apple']\n",
    "\n",
    "if 'kiwi' in fruits:\n",
    "    print(\"kiwi is available\")\n",
    "else: \n",
    "    print(\"kiwi is not available\")\n",
    "\n"
   ]
  },
  {
   "cell_type": "code",
   "execution_count": 1,
   "metadata": {},
   "outputs": [
    {
     "name": "stdout",
     "output_type": "stream",
     "text": [
      "The player just earned 5 points\n"
     ]
    }
   ],
   "source": [
    "#3 Alien Colors #1\n",
    "alien_color: str = 'green'\n",
    "\n",
    "if alien_color == 'green':\n",
    "    print('The player just earned 5 points')\n",
    "\n",
    "if alien_color == 'yellow':\n",
    "    print('The player just earned 5 points')\n",
    "\n",
    "\n"
   ]
  },
  {
   "cell_type": "code",
   "execution_count": 1,
   "metadata": {},
   "outputs": [
    {
     "name": "stdout",
     "output_type": "stream",
     "text": [
      "The player just earned 5 points\n",
      "The player just earned 10 points\n"
     ]
    }
   ],
   "source": [
    "#4 Alien Colors #2\n",
    "alien_color: str = 'green'\n",
    "\n",
    "if alien_color == 'green':\n",
    "    print('The player just earned 5 points')\n",
    "else:\n",
    "    print('The player just earned 10 points')\n",
    "\n",
    "#--------------------------------------------\n",
    "\n",
    "if alien_color == 'yellow':\n",
    "    print('The player just earned 5 points')\n",
    "else:\n",
    "    print('The player just earned 10 points')\n",
    "\n",
    "\n",
    "\n",
    "\n"
   ]
  },
  {
   "cell_type": "code",
   "execution_count": 3,
   "metadata": {},
   "outputs": [
    {
     "name": "stdout",
     "output_type": "stream",
     "text": [
      "The player just earned 5 points\n",
      "The player just earned 10 points\n",
      "The player just earned 15 points\n"
     ]
    }
   ],
   "source": [
    "#5 Alien Colors #3\n",
    "alien_color: str = 'green'\n",
    "\n",
    "if alien_color == 'green':\n",
    "    print('The player just earned 5 points')\n",
    "elif alien_color == 'yellow':\n",
    "    print('The player just earned 10 points')\n",
    "else:\n",
    "    print('The player just earned 15 points')\n",
    "\n",
    "#-------------------------------------------\n",
    "\n",
    "alien_color: str = 'yellow'\n",
    "\n",
    "if alien_color == 'green':\n",
    "    print('The player just earned 5 points')\n",
    "elif alien_color == 'yellow':\n",
    "    print('The player just earned 10 points')\n",
    "else:\n",
    "    print('The player just earned 15 points')\n",
    "\n",
    "#-------------------------------------------\n",
    "\n",
    "alien_color: str = 'red'\n",
    "\n",
    "if alien_color == 'green':\n",
    "    print('The player just earned 5 points')\n",
    "elif alien_color == 'yellow':\n",
    "    print('The player just earned 10 points')\n",
    "else:\n",
    "    print('The player just earned 15 points')\n",
    "\n",
    "\n",
    "\n"
   ]
  },
  {
   "cell_type": "code",
   "execution_count": 6,
   "metadata": {},
   "outputs": [
    {
     "name": "stdout",
     "output_type": "stream",
     "text": [
      "The person is an adult\n"
     ]
    }
   ],
   "source": [
    "#6 Stages of Life\n",
    "age: int = 33\n",
    "\n",
    "if age < 2:\n",
    "    print('The person is a baby')\n",
    "elif age >= 2 and age < 4:\n",
    "    print('The person is a toddler')\n",
    "elif age >= 4 and age < 13:\n",
    "    print('The person is a kid')\n",
    "elif age >= 13 and age < 20:\n",
    "    print('The person is a teenager')\n",
    "elif age >= 20 and age < 65:\n",
    "    print('The person is an adult')\n",
    "else:\n",
    "    print('The person is an elder')"
   ]
  },
  {
   "cell_type": "code",
   "execution_count": 8,
   "metadata": {},
   "outputs": [
    {
     "name": "stdout",
     "output_type": "stream",
     "text": [
      "I really like dates\n",
      "I really like mangoes\n",
      "I really like bananas\n"
     ]
    }
   ],
   "source": [
    "#7 Favorite Fruit\n",
    "favorite_fruits: list[str] = ['dates', 'bananas', 'mangoes']\n",
    "\n",
    "if 'dates' in favorite_fruits:\n",
    "    print('I really like dates')\n",
    "\n",
    "if 'mangoes' in favorite_fruits:\n",
    "    print('I really like mangoes')\n",
    "\n",
    "if 'bananas' in favorite_fruits:\n",
    "    print('I really like bananas')"
   ]
  },
  {
   "cell_type": "code",
   "execution_count": 11,
   "metadata": {},
   "outputs": [
    {
     "name": "stdout",
     "output_type": "stream",
     "text": [
      "Hello Sarfaraz, thank you for logging in again.\n",
      "Hello Hamzah, thank you for logging in again.\n",
      "Hello admin, would you like to see a status report?\n",
      "Hello Hussain, thank you for logging in again.\n",
      "Hello Hasan, thank you for logging in again.\n"
     ]
    }
   ],
   "source": [
    "#8 Hello Admin\n",
    "usernames: str = ['Sarfaraz', 'Hamzah', 'admin', 'Hussain', 'Hasan']\n",
    "\n",
    "for user in usernames:\n",
    "    if user == 'admin':\n",
    "        print('Hello admin, would you like to see a status report?')\n",
    "    else: \n",
    "        print(f'Hello {user}, thank you for logging in again.')"
   ]
  },
  {
   "cell_type": "code",
   "execution_count": 16,
   "metadata": {},
   "outputs": [
    {
     "name": "stdout",
     "output_type": "stream",
     "text": [
      "Hello Sarfaraz, thank you for logging in again.\n",
      "Hello Hamzah, thank you for logging in again.\n",
      "Hello admin, would you like to see a status report?\n",
      "Hello Hussain, thank you for logging in again.\n",
      "Hello Hasan, thank you for logging in again.\n",
      "We need to find some users!\n"
     ]
    }
   ],
   "source": [
    "#9 No Users\n",
    "usernames: str = ['Sarfaraz', 'Hamzah', 'admin', 'Hussain', 'Hasan']\n",
    "\n",
    "for user in usernames:\n",
    "    if user == 'admin':\n",
    "        print('Hello admin, would you like to see a status report?')\n",
    "    else: \n",
    "        print(f'Hello {user}, thank you for logging in again.')\n",
    "\n",
    "usernames.clear()\n",
    "\n",
    "if len(usernames) == 0:\n",
    "    print('We need to find some users!')\n"
   ]
  },
  {
   "cell_type": "code",
   "execution_count": 4,
   "metadata": {},
   "outputs": [
    {
     "name": "stdout",
     "output_type": "stream",
     "text": [
      "This username Mustafa is available\n",
      "This username (Ali) has already been used. Please enter a new username.\n",
      "This username (Ahmad) has already been used. Please enter a new username.\n",
      "This username Noman is available\n",
      "This username Haseeb is available\n"
     ]
    }
   ],
   "source": [
    "#10 Checking Usernames\n",
    "current_users: list[str] = ['Ali', 'Hamzah', 'Hasan', 'Hussain', 'Ahmad']\n",
    "new_users: list[str] = ['Mustafa', 'Ali', 'Ahmad', 'Noman', 'Haseeb']\n",
    "\n",
    "for user in new_users:\n",
    "    if user in current_users:\n",
    "        print(f'This username ({user}) has already been used. Please enter a new username.')\n",
    "    else:\n",
    "        print(f'This username {user} is available')\n"
   ]
  },
  {
   "cell_type": "code",
   "execution_count": 5,
   "metadata": {},
   "outputs": [
    {
     "name": "stdout",
     "output_type": "stream",
     "text": [
      "1st\n",
      "2nd\n",
      "3rd\n",
      "5th\n",
      "6th\n",
      "7th\n",
      "8th\n",
      "9th\n"
     ]
    }
   ],
   "source": [
    "#11 Ordinal Numbers\n",
    "numbers: list[int] = [1, 2, 3, 5, 6, 7, 8, 9]\n",
    "\n",
    "for num in numbers:\n",
    "    if num == 1:\n",
    "        print(f'{num}st')\n",
    "    elif num ==2:\n",
    "        print(f'{num}nd')\n",
    "    elif num == 3:\n",
    "        print(f'{num}rd')\n",
    "    else:\n",
    "        print(f'{num}th')"
   ]
  },
  {
   "cell_type": "code",
   "execution_count": null,
   "metadata": {},
   "outputs": [],
   "source": [
    "#12 Styling if Statements\n",
    "\n",
    "# Review the programs you wrote in this chapter, and \n",
    "# make sure you styled your conditional tests appropriately"
   ]
  },
  {
   "cell_type": "code",
   "execution_count": null,
   "metadata": {},
   "outputs": [],
   "source": [
    "#13 Your Ideas\n",
    "\n",
    "# At this point, you’re a more capable programmer than you \n",
    "# were when you started this book. Now that you have a better sense of how \n",
    "# real-world situations are modeled in programs, you might be thinking of some \n",
    "# problems you could solve with your own programs. Record any new ideas you \n",
    "# have about problems you might want to solve as your programming skills continue to improve. Consider games you might want to write, datasets you might \n",
    "# want to explore, and web applications you’d like to create.\n"
   ]
  }
 ],
 "metadata": {
  "kernelspec": {
   "display_name": "Python 3 (ipykernel)",
   "language": "python",
   "name": "python3"
  },
  "language_info": {
   "codemirror_mode": {
    "name": "ipython",
    "version": 3
   },
   "file_extension": ".py",
   "mimetype": "text/x-python",
   "name": "python",
   "nbconvert_exporter": "python",
   "pygments_lexer": "ipython3",
   "version": "3.12.4"
  }
 },
 "nbformat": 4,
 "nbformat_minor": 4
}
