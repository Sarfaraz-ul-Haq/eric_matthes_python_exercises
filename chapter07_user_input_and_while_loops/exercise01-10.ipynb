{
 "cells": [
  {
   "cell_type": "code",
   "execution_count": 1,
   "metadata": {},
   "outputs": [
    {
     "name": "stdout",
     "output_type": "stream",
     "text": [
      "Let me see if I can find you a BMW.\n"
     ]
    }
   ],
   "source": [
    "#1 Rental Car\n",
    "\n",
    "rental_car: str = input(\"What kind of rental car would you like?\")\n",
    "print(f\"Let me see if I can find you a {rental_car}.\")"
   ]
  },
  {
   "cell_type": "code",
   "execution_count": 3,
   "metadata": {},
   "outputs": [
    {
     "name": "stdout",
     "output_type": "stream",
     "text": [
      "You'll have to wait for a table\n"
     ]
    }
   ],
   "source": [
    "#2 Restaurant Seating\n",
    "\n",
    "people_in_dinner: int = int(input(\"How many people are there in your dinner group?\"))\n",
    "\n",
    "if people_in_dinner > 8:\n",
    "    print(\"You'll have to wait for a table\")\n",
    "else:\n",
    "    print(\"The table is ready\")\n"
   ]
  },
  {
   "cell_type": "code",
   "execution_count": 11,
   "metadata": {},
   "outputs": [
    {
     "name": "stdout",
     "output_type": "stream",
     "text": [
      "The user number is a multiple of ten\n"
     ]
    }
   ],
   "source": [
    "#3 Multiples of Ten\n",
    "\n",
    "user_number: int = int(input(\"Enter a number: \"))\n",
    "\n",
    "if user_number % 10 == 0:\n",
    "    print(\"The user number is a multiple of ten\")\n",
    "else:\n",
    "    print(\"The user number is not a multiple of ten\")"
   ]
  },
  {
   "cell_type": "code",
   "execution_count": 20,
   "metadata": {},
   "outputs": [
    {
     "name": "stdout",
     "output_type": "stream",
     "text": [
      "sausages has been added to your pizza\n",
      "chicken has been added to your pizza\n",
      "olives has been added to your pizza\n"
     ]
    }
   ],
   "source": [
    "#4 Pizza Toppings\n",
    "\n",
    "flag: bool = True\n",
    "\n",
    "while flag:\n",
    "    toppings: str = input('Enter pizza toppings: ')\n",
    "    if toppings == 'quit' or toppings == 'exit':\n",
    "        flag = False\n",
    "        break\n",
    "    print(f'{toppings} has been added to your pizza')"
   ]
  },
  {
   "cell_type": "code",
   "execution_count": 3,
   "metadata": {},
   "outputs": [
    {
     "name": "stdout",
     "output_type": "stream",
     "text": [
      "The cost of movie theater ticket for your age group is 0$\n",
      "The cost of movie theater ticket for your age group is 10$\n",
      "The cost of movie theater ticket for your age group is 10$\n",
      "The cost of movie theater ticket for your age group is 15$\n"
     ]
    }
   ],
   "source": [
    "#5 Movie Tickets\n",
    "\n",
    "while True:\n",
    "    movie_theater_ticket: int\n",
    "    \n",
    "    age: str = input(\"Please enter your age: \")\n",
    "\n",
    "    if age == \"exit\":\n",
    "        break\n",
    "\n",
    "    age = int(age)\n",
    "\n",
    "    if age < 3:\n",
    "        movie_theater_ticket = 0\n",
    "    elif age >= 3 and age < 12:\n",
    "        movie_theater_ticket = 10\n",
    "    else:\n",
    "        movie_theater_ticket = 15\n",
    "\n",
    "    print(f\"The cost of movie theater ticket for your age group is {movie_theater_ticket}$\")\n",
    "\n",
    "\n",
    "    \n"
   ]
  },
  {
   "cell_type": "code",
   "execution_count": null,
   "metadata": {},
   "outputs": [],
   "source": [
    "# Three Exits \n",
    "\n"
   ]
  }
 ],
 "metadata": {
  "kernelspec": {
   "display_name": "python3.12.4",
   "language": "python",
   "name": "python3"
  },
  "language_info": {
   "codemirror_mode": {
    "name": "ipython",
    "version": 3
   },
   "file_extension": ".py",
   "mimetype": "text/x-python",
   "name": "python",
   "nbconvert_exporter": "python",
   "pygments_lexer": "ipython3",
   "version": "3.12.4"
  }
 },
 "nbformat": 4,
 "nbformat_minor": 2
}
