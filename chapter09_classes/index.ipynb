{
 "cells": [
  {
   "cell_type": "code",
   "execution_count": 4,
   "metadata": {},
   "outputs": [
    {
     "name": "stdout",
     "output_type": "stream",
     "text": [
      "Gourmet Restaurant\n",
      "Pakistan\n",
      "The restaurant is open\n",
      "Gourmet Restaurant Pakistan\n"
     ]
    }
   ],
   "source": [
    "#1 Restaurant\n",
    "\n",
    "class Restaurant:\n",
    "    def __init__(self, restaurant_name: str, cuisine_type: str):\n",
    "        self.restaurant_name = restaurant_name\n",
    "        self.cuisine_type = cuisine_type\n",
    "\n",
    "    def describe_restaurant(self) -> None:\n",
    "        print(f\"{self.restaurant_name} {self.cuisine_type}\")\n",
    "\n",
    "    def open_restaurant(self) -> None:\n",
    "        print(\"The restaurant is open\")\n",
    "\n",
    "restaurant: Restaurant = Restaurant(\"Gourmet Restaurant\", \"Pakistan\")\n",
    "print(restaurant.restaurant_name)\n",
    "print(restaurant.cuisine_type)\n",
    "restaurant.open_restaurant()\n",
    "restaurant.describe_restaurant()\n",
    "\n",
    "\n"
   ]
  },
  {
   "cell_type": "code",
   "execution_count": 6,
   "metadata": {},
   "outputs": [
    {
     "name": "stdout",
     "output_type": "stream",
     "text": [
      "Kitchen Cuisine Pakistani\n",
      "Hot & Spicy Pakistani\n",
      "Salt'n Pepper Pakistani\n"
     ]
    }
   ],
   "source": [
    "#2 Three Restaurants\n",
    "\n",
    "class Restaurant:\n",
    "    def __init__(self, restaurant_name: str, cuisine_type: str):\n",
    "        self.restaurant_name = restaurant_name\n",
    "        self.cuisine_type = cuisine_type\n",
    "\n",
    "    def describe_restaurant(self) -> None:\n",
    "        print(f\"{self.restaurant_name} {self.cuisine_type}\")\n",
    "\n",
    "    def open_restaurant(self) -> None:\n",
    "        print(\"The restaurant is open\")\n",
    "\n",
    "restaurant_one: Restaurant = Restaurant(\"Kitchen Cuisine\", \"Pakistani\")\n",
    "restaurant_one.describe_restaurant()\n",
    "\n",
    "restaurant_two: Restaurant = Restaurant(\"Hot & Spicy\", \"Pakistani\")\n",
    "restaurant_two.describe_restaurant()\n",
    "\n",
    "restaurant_three: Restaurant = Restaurant(\"Salt'n Pepper\", \"Pakistani\")\n",
    "restaurant_three.describe_restaurant()"
   ]
  }
 ],
 "metadata": {
  "kernelspec": {
   "display_name": "python3.12.4",
   "language": "python",
   "name": "python3"
  },
  "language_info": {
   "codemirror_mode": {
    "name": "ipython",
    "version": 3
   },
   "file_extension": ".py",
   "mimetype": "text/x-python",
   "name": "python",
   "nbconvert_exporter": "python",
   "pygments_lexer": "ipython3",
   "version": "3.12.4"
  }
 },
 "nbformat": 4,
 "nbformat_minor": 2
}
