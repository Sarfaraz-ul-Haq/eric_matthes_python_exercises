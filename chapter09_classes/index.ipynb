{
 "cells": [
  {
   "cell_type": "code",
   "execution_count": 5,
   "metadata": {},
   "outputs": [
    {
     "name": "stdout",
     "output_type": "stream",
     "text": [
      "Gourmet Restaurant\n",
      "Pakistan\n",
      "Gourmet Restaurant Pakistan\n",
      "Gourmet Restaurant is open\n"
     ]
    }
   ],
   "source": [
    "#1 Restaurant\n",
    "\n",
    "class Restaurant:\n",
    "    def __init__(self, restaurant_name: str, cuisine_type: str):\n",
    "        self.name: str = restaurant_name\n",
    "        self.cuisine_type: str = cuisine_type\n",
    "\n",
    "    def describe_restaurant(self) -> None:\n",
    "        print(f\"{self.name} {self.cuisine_type}\")\n",
    "\n",
    "    def open_restaurant(self) -> None:\n",
    "        print(f\"{self.name} is open\")\n",
    "\n",
    "restaurant: Restaurant = Restaurant(\"Gourmet Restaurant\", \"Pakistani\")\n",
    "\n",
    "print(restaurant.name)\n",
    "print(restaurant.cuisine_type)\n",
    "restaurant.describe_restaurant()\n",
    "restaurant.open_restaurant()\n",
    "\n",
    "\n"
   ]
  },
  {
   "cell_type": "code",
   "execution_count": 1,
   "metadata": {},
   "outputs": [
    {
     "name": "stdout",
     "output_type": "stream",
     "text": [
      "Kitchen Cuisine is a Pakistani restaurant\n",
      "Hot & Spicy is a Pakistani restaurant\n",
      "Salt'n Pepper is a Pakistani restaurant\n"
     ]
    }
   ],
   "source": [
    "#2 Three Restaurants\n",
    "\n",
    "class Restaurant:\n",
    "    def __init__(self, restaurant_name: str, cuisine_type: str):\n",
    "        self.name: str = restaurant_name\n",
    "        self.cuisine_type: str = cuisine_type\n",
    "\n",
    "    def describe_restaurant(self) -> None:\n",
    "        print(f\"{self.name} is a {self.cuisine_type} restaurant\")\n",
    "\n",
    "    def open_restaurant(self) -> None:\n",
    "        print(f\"{self.name} is open\")\n",
    "\n",
    "restaurant_one: Restaurant = Restaurant(\"Kitchen Cuisine\", \"Pakistani\")\n",
    "restaurant_one.describe_restaurant()\n",
    "\n",
    "restaurant_two: Restaurant = Restaurant(\"Hot & Spicy\", \"Pakistani\")\n",
    "restaurant_two.describe_restaurant()\n",
    "\n",
    "restaurant_three: Restaurant = Restaurant(\"Salt'n Pepper\", \"Pakistani\")\n",
    "restaurant_three.describe_restaurant()"
   ]
  },
  {
   "cell_type": "code",
   "execution_count": 3,
   "metadata": {},
   "outputs": [
    {
     "name": "stdout",
     "output_type": "stream",
     "text": [
      "Hello Sarfaraz123, how are you?\n",
      "Full name: Sarfaraz ul Haq\n",
      "Age: 21\n",
      "Username: Sarfaraz123\n",
      "Email: isarfaraz80@gmail.com\n",
      "\n",
      "\n",
      "Hello Hamzah123, how are you?\n",
      "Full name: Hamzah Syed\n",
      "Age: 24\n",
      "Username: Hamzah123\n",
      "Email: hamzah@gmail.com\n",
      "\n",
      "\n",
      "Hello Hussain123, how are you?\n",
      "Full name: Hussain Ali\n",
      "Age: 24\n",
      "Username: Hussain123\n",
      "Email: hussain@gmail.com\n"
     ]
    }
   ],
   "source": [
    "#3 Users\n",
    "\n",
    "class User:\n",
    "    def __init__(self, first_name: str, last_name: str, age: int, username: str, email: str) -> None:\n",
    "        self.first_name: str = first_name\n",
    "        self.last_name: str = last_name\n",
    "        self.age: int = age\n",
    "        self.username: str = username\n",
    "        self.email: str = email\n",
    "\n",
    "    def describe_user(self) -> None:\n",
    "        print(\n",
    "f\"\"\"Full name: {self.first_name} {self.last_name}\n",
    "Age: {self.age}\n",
    "Username: {self.username}\n",
    "Email: {self.email}\"\"\"\n",
    "        )\n",
    "\n",
    "    \n",
    "    def greet_user(self) -> None:\n",
    "        print(f\"Hello {self.username}, how are you?\")\n",
    "\n",
    "    \n",
    "user1: User = User(\"Sarfaraz\", \"ul Haq\", 21, \"Sarfaraz123\", \"isarfaraz80@gmail.com\")\n",
    "user1.greet_user()\n",
    "user1.describe_user()\n",
    "\n",
    "print(\"\\n\")\n",
    "\n",
    "user2: User = User(\"Hamzah\", \"Syed\", 24, \"Hamzah123\", \"hamzah@gmail.com\")\n",
    "user2.greet_user()\n",
    "user2.describe_user()\n",
    "\n",
    "print(\"\\n\")\n",
    "\n",
    "user3: User = User(\"Hussain\", \"Ali\", 24, \"Hussain123\", \"hussain@gmail.com\")\n",
    "user3.greet_user()\n",
    "user3.describe_user()"
   ]
  },
  {
   "cell_type": "code",
   "execution_count": 7,
   "metadata": {},
   "outputs": [
    {
     "name": "stdout",
     "output_type": "stream",
     "text": [
      "0\n",
      "50\n",
      "300\n",
      "355\n"
     ]
    }
   ],
   "source": [
    "#4 Number Served\n",
    "\n",
    "class Restaurant:\n",
    "    def __init__(self, restaurant_name: str, cuisine_type: str):\n",
    "        self.name: str = restaurant_name\n",
    "        self.cuisine_type: str = cuisine_type\n",
    "        self.number_served: int = 0\n",
    "\n",
    "    def describe_restaurant(self) -> None:\n",
    "        print(f\"\"\"Restaurant Name: {self.name} \n",
    "Restaurant Type: {self.cuisine_type}\n",
    "Customers Served: {self.number_served}\"\"\")\n",
    "\n",
    "    def open_restaurant(self) -> None:\n",
    "        print(f\"{self.name} is open\")\n",
    "\n",
    "    def set_number_served(self, customers_served: int) -> None:\n",
    "        self.number_served = customers_served\n",
    "\n",
    "    def increment_number_served(self, increment: int) -> None:\n",
    "        self.number_served += increment\n",
    "        \n",
    "\n",
    "    \n",
    "restaurant: Restaurant = Restaurant(\"Restaurant Name\", \"Pakistani\")\n",
    "print(restaurant.number_served)\n",
    "restaurant.number_served = 50\n",
    "print(restaurant.number_served)\n",
    "\n",
    "restaurant.set_number_served(300)\n",
    "print(restaurant.number_served)\n",
    "\n",
    "restaurant.increment_number_served(55)\n",
    "print(restaurant.number_served)"
   ]
  },
  {
   "cell_type": "code",
   "execution_count": 4,
   "metadata": {},
   "outputs": [
    {
     "name": "stdout",
     "output_type": "stream",
     "text": [
      "1\n",
      "4\n",
      "0\n"
     ]
    }
   ],
   "source": [
    "#5 Login Attempts \n",
    "\n",
    "class User:\n",
    "    def __init__(self, first_name: str, last_name: str, age: int, username: str, email: str) -> None:\n",
    "        self.first_name: str = first_name\n",
    "        self.last_name: str = last_name\n",
    "        self.age: int = age\n",
    "        self.username: str = username\n",
    "        self.email: str = email\n",
    "        self.login_attempts: int = 0\n",
    "\n",
    "    def describe_user(self) -> None:\n",
    "        print(\n",
    "f\"\"\"First Name: {self.first_name}\n",
    "Last Name: {self.last_name}\n",
    "Age: {self.age}\n",
    "Username: {self.username}\n",
    "Email: {self.email}\"\"\"\n",
    "        )\n",
    "\n",
    "    def greet_user(self) -> None:\n",
    "        print(f\"Hello {self.username}, how are you?\")\n",
    "\n",
    "    def increment_login_attempts(self) -> None:\n",
    "        self.login_attempts += 1\n",
    "\n",
    "    def reset_login_attempts(self) -> None:\n",
    "        self.login_attempts = 0\n",
    "\n",
    "\n",
    "test_user: User = User(\"Sarfaraz\", \"ul Haq\", 21, \"Sarfaraz123\", \"abc@gmail.com\")\n",
    "\n",
    "test_user.increment_login_attempts()\n",
    "print(test_user.login_attempts)\n",
    "test_user.increment_login_attempts()\n",
    "test_user.increment_login_attempts()\n",
    "test_user.increment_login_attempts()\n",
    "print(test_user.login_attempts)\n",
    "\n",
    "test_user.reset_login_attempts()\n",
    "print(test_user.login_attempts)\n"
   ]
  },
  {
   "cell_type": "code",
   "execution_count": 7,
   "metadata": {},
   "outputs": [
    {
     "name": "stdout",
     "output_type": "stream",
     "text": [
      "1 Chocolate\n",
      "2 Vanilla\n",
      "3 Nutella\n",
      "4 Mango\n"
     ]
    }
   ],
   "source": [
    "#6 Ice Cream Stand\n",
    "\n",
    "from typing import List\n",
    "\n",
    "class Restaurant:\n",
    "    def __init__(self, restaurant_name: str, cuisine_type: str):\n",
    "        self.name: str = restaurant_name\n",
    "        self.cuisine_type: str = cuisine_type\n",
    "        self.number_served: int = 0\n",
    "\n",
    "    def describe_restaurant(self) -> None:\n",
    "        print(f\"\"\"Restaurant Name: {self.name} \n",
    "Restaurant Type: {self.cuisine_type}\n",
    "Customers Served: {self.number_served}\"\"\")\n",
    "\n",
    "    def open_restaurant(self) -> None:\n",
    "        print(f\"{self.name} is open\")\n",
    "\n",
    "    def set_number_served(self, customers_served: int) -> None:\n",
    "        self.number_served = customers_served\n",
    "\n",
    "    def increment_number_served(self, increment: int) -> None:\n",
    "        self.number_served += increment\n",
    "\n",
    "class IceCreamStand(Restaurant):\n",
    "    def __init__(self, restaurant_name: str, cuisine_type: str, flavors: List[str]) -> None:\n",
    "        super().__init__(restaurant_name, cuisine_type)\n",
    "        self.flavors: List[str] = flavors\n",
    "\n",
    "    def display_flavors(self) -> None:\n",
    "        for index, flavor in enumerate(self.flavors, start=1):\n",
    "            print(f\"{index} {flavor}\")\n",
    "\n",
    "\n",
    "icecream_stand1: IceCreamStand = IceCreamStand(\"Ice Kart\", \"Pakistani\", [\"Chocolate\", \"Vanilla\", \"Nutella\", \"Mango\"])\n",
    "icecream_stand1.display_flavors()"
   ]
  },
  {
   "cell_type": "code",
   "execution_count": 9,
   "metadata": {},
   "outputs": [
    {
     "name": "stdout",
     "output_type": "stream",
     "text": [
      "Here are the privileges of the admin:\n",
      "- can add post\n",
      "- can delete post\n",
      "- can ban user\n"
     ]
    }
   ],
   "source": [
    "#7 Admin\n",
    "\n",
    "class User:\n",
    "    def __init__(self, first_name: str, last_name: str, age: int, username: str, email: str) -> None:\n",
    "        self.first_name: str = first_name\n",
    "        self.last_name: str = last_name\n",
    "        self.age: int = age\n",
    "        self.username: str = username\n",
    "        self.email: str = email\n",
    "        self.login_attempts = 0\n",
    "\n",
    "    def describe_user(self) -> None:\n",
    "        print(\n",
    "f\"\"\"First Name: {self.first_name}\n",
    "Last Name: {self.last_name}\n",
    "Age: {self.age}\n",
    "Username: {self.username}\n",
    "Email: {self.email}\"\"\"\n",
    "        )\n",
    "\n",
    "    def greet_user(self) -> None:\n",
    "        print(f\"Hello {self.username}, how are you?\")\n",
    "\n",
    "    def increment_login_attempts(self) -> None:\n",
    "        self.login_attempts += 1\n",
    "\n",
    "    def reset_login_attempts(self) -> None:\n",
    "        self.login_attempts = 0\n",
    "\n",
    "# class Admin(User):\n",
    "#     def __init__(self, first_name: str, last_name: str, age: int, username: str, email: str, privileges: List[str]) -> None:\n",
    "#         super().__init__(first_name, last_name, age, username, email)\n",
    "#         self.privileges: List[str] = privileges\n",
    "\n",
    "#     def show_privileges(self) -> None:\n",
    "#         print(f\"Here are the privileges of the admin:\")\n",
    "#         for privilege in self.privileges:\n",
    "#             print(f\"- {privilege}\")\n",
    "\n",
    "\n",
    "# admin: Admin = Admin(\"Sarfaraz\", \"ul Haq\", 21, \"Sarfaraz123\", \"abc@gmail.com\", [\"can add post\", \"can delete post\", \"can ban user\"])\n",
    "# admin.show_privileges()\n"
   ]
  },
  {
   "cell_type": "code",
   "execution_count": 11,
   "metadata": {},
   "outputs": [
    {
     "name": "stdout",
     "output_type": "stream",
     "text": [
      "Here are the privileges of the admin:\n",
      "- can add post\n",
      "- can delete post\n",
      "- can ban user\n"
     ]
    }
   ],
   "source": [
    "#8 Privileges\n",
    "\n",
    "from typing import List\n",
    "\n",
    "class Admin(User):\n",
    "    def __init__(self, first_name: str, last_name: str, age: int, username: str, email: str, privileges: List[str]) -> None:\n",
    "        super().__init__(first_name, last_name, age, username, email)\n",
    "        self.privileges = Privileges(privileges)\n",
    "\n",
    "\n",
    "class Privileges:\n",
    "    def __init__(self, privileges: List[str]) -> None:\n",
    "        self.privileges: List[str] = privileges\n",
    "\n",
    "    def show_privileges(self) -> None:\n",
    "        print(f\"Here are the privileges of the admin:\")\n",
    "        for privilege in self.privileges:\n",
    "            print(f\"- {privilege}\")\n",
    "\n",
    "test_admin: Admin = Admin(\"Sarfaraz\", \"ul Haq\", 21, \"Sarfaraz\", \"isarfaraz80@gmail.com\", [\"can add post\", \"can delete post\", \"can ban user\"])\n",
    "test_admin.privileges.show_privileges()\n"
   ]
  }
 ],
 "metadata": {
  "kernelspec": {
   "display_name": "python3.12.4",
   "language": "python",
   "name": "python3"
  },
  "language_info": {
   "codemirror_mode": {
    "name": "ipython",
    "version": 3
   },
   "file_extension": ".py",
   "mimetype": "text/x-python",
   "name": "python",
   "nbconvert_exporter": "python",
   "pygments_lexer": "ipython3",
   "version": "3.12.4"
  }
 },
 "nbformat": 4,
 "nbformat_minor": 2
}
