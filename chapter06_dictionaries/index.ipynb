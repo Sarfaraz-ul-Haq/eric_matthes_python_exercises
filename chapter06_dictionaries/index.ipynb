{
 "cells": [
  {
   "cell_type": "code",
   "execution_count": 1,
   "metadata": {},
   "outputs": [
    {
     "name": "stdout",
     "output_type": "stream",
     "text": [
      "Zia\n",
      "Khan\n",
      "63\n",
      "Karachi\n"
     ]
    }
   ],
   "source": [
    "#1 Person\n",
    "\n",
    "from typing import Dict, Union\n",
    "\n",
    "Key = Union[str]\n",
    "Value = Union[str, int]\n",
    "\n",
    "person: Dict[Key, Value]  = {\n",
    "    'first_name': 'Zia',\n",
    "    'last_name': 'Khan',\n",
    "    'age': 63,\n",
    "    'city': 'Karachi'\n",
    "}\n",
    "\n",
    "print(person['first_name'])\n",
    "print(person['last_name'])\n",
    "print(person['age'])\n",
    "print(person['city'])"
   ]
  },
  {
   "cell_type": "code",
   "execution_count": 4,
   "metadata": {},
   "outputs": [
    {
     "name": "stdout",
     "output_type": "stream",
     "text": [
      "Favorite number of Sir Zia is 63\n",
      "Favorite number of Sir Hamzah is 23\n",
      "Favorite number of Sir Jahanzaib is 25\n",
      "Favorite number of Sir Qasim is 30\n",
      "Favorite number of Sir Ameen is 27\n"
     ]
    }
   ],
   "source": [
    "#2 Favorite Numbers\n",
    "\n",
    "from typing import Dict, Union\n",
    "\n",
    "favorite_numbers: Dict[str, int] = {\n",
    "    'Sir Zia': 63,\n",
    "    'Sir Hamzah': 23,\n",
    "    'Sir Jahanzaib': 25,\n",
    "    'Sir Qasim': 30,\n",
    "    'Sir Ameen': 27\n",
    "}\n",
    "\n",
    "for name, fav_num in favorite_numbers.items():\n",
    "    print(f'Favorite number of {name} is {fav_num}')\n",
    "\n"
   ]
  },
  {
   "cell_type": "code",
   "execution_count": 10,
   "metadata": {},
   "outputs": [
    {
     "name": "stdout",
     "output_type": "stream",
     "text": [
      "iteration\n",
      "\tIteration in programming is a fundamental concept where a set of instructions is executed repeatedly. It’s used to perform tasks multiple times, often with slight variations or until a certain condition is met.\n",
      "\n",
      "shallow-copy\n",
      "\tA shallow copy constructs a new compound object and then (to the extent possible) inserts references into it to the objects found in the original.\n",
      "\n",
      "deep-copy\n",
      "\tA deep copy constructs a new compound object and then, recursively, inserts copies into it of the objects found in the original.\n",
      "\n",
      "identation\n",
      "\tIndentation refers to the spaces at the beginning of a code line. Python uses indentation to indicate a block of code.\n",
      "\n",
      "variable\n",
      "\tVariables are containers for storing data values.\n",
      "\n"
     ]
    }
   ],
   "source": [
    "#3 Glossary\n",
    "\n",
    "glossary: Dict[str, str] = {\n",
    "    'iteration': 'Iteration in programming is a fundamental concept where a set of instructions is executed repeatedly. It’s used to perform tasks multiple times, often with slight variations or until a certain condition is met.',\n",
    "    'shallow-copy': 'A shallow copy constructs a new compound object and then (to the extent possible) inserts references into it to the objects found in the original.',\n",
    "    'deep-copy': 'A deep copy constructs a new compound object and then, recursively, inserts copies into it of the objects found in the original.',\n",
    "    'identation': 'Indentation refers to the spaces at the beginning of a code line. Python uses indentation to indicate a block of code.',\n",
    "    'variable': 'Variables are containers for storing data values.'\n",
    "\n",
    "}\n",
    "\n",
    "for word, meaning in glossary.items():\n",
    "    print(f'{word}\\n\\t{meaning}\\n')"
   ]
  },
  {
   "cell_type": "code",
   "execution_count": null,
   "metadata": {},
   "outputs": [],
   "source": [
    "#4 Glossary 2\n",
    "\n",
    "# Now that you know how to loop through a dictionary, clean \n",
    "# up the code from Exercise 6-3 (page 99) by replacing your series of print()\n",
    "# calls with a loop that runs through the dictionary’s keys and values. When \n",
    "# you’re sure that your loop works, add five more Python terms to your glossary. \n",
    "# When you run your program again, these new words and meanings should \n",
    "# automatically be included in the output.\n",
    "\n",
    "# (already used for loop in previous exercise)"
   ]
  },
  {
   "cell_type": "code",
   "execution_count": 12,
   "metadata": {},
   "outputs": [
    {
     "name": "stdout",
     "output_type": "stream",
     "text": [
      "The Nile runs through Egypt.\n",
      "\n",
      "The Amazon River runs through Brazil.\n",
      "\n",
      "The Yangtze River runs through China.\n",
      "\n"
     ]
    }
   ],
   "source": [
    "#5 Rivers\n",
    "\n",
    "rivers: Dict[str, str] = {\n",
    "    'Nile': 'Egypt',\n",
    "    'Amazon River': 'Brazil',\n",
    "    'Yangtze River': 'China'\n",
    "}\n",
    "\n",
    "for river, country in rivers.items():\n",
    "    print(f'The {river} runs through {country}.\\n')"
   ]
  },
  {
   "cell_type": "code",
   "execution_count": null,
   "metadata": {},
   "outputs": [],
   "source": [
    "#6 Polling\n",
    "\n",
    "favorite_languages: Dict[str, str] = {\n",
    " 'jen': 'python',\n",
    " 'sarah': 'c',\n",
    " 'edward': 'rust',\n",
    " 'phil': 'python',\n",
    "}\n",
    "\n",
    "\n"
   ]
  },
  {
   "cell_type": "code",
   "execution_count": 17,
   "metadata": {},
   "outputs": [
    {
     "name": "stdout",
     "output_type": "stream",
     "text": [
      "first_name: Zia\n",
      "last_name: Khan\n",
      "age: 63\n",
      "city: Karachi\n",
      "\n",
      "\n",
      "first_name: Ameen\n",
      "last_name: Alam\n",
      "age: 25\n",
      "city: Karachi\n",
      "\n",
      "\n",
      "first_name: Jahanzaib\n",
      "last_name: Tayyab\n",
      "age: 25\n",
      "city: Lahore\n",
      "\n",
      "\n"
     ]
    }
   ],
   "source": [
    "#7 People\n",
    "\n",
    "person: Dict[str, str]  = {\n",
    "    'first_name': 'Zia',\n",
    "    'last_name': 'Khan',\n",
    "    'age': 63,\n",
    "    'city': 'Karachi'\n",
    "}\n",
    "\n",
    "person2: Dict[str, str]  = {\n",
    "    'first_name': 'Ameen',\n",
    "    'last_name': 'Alam',\n",
    "    'age': 25,\n",
    "    'city': 'Karachi'\n",
    "}\n",
    "\n",
    "person3: Dict[str, str]  = {\n",
    "    'first_name': 'Jahanzaib',\n",
    "    'last_name': 'Tayyab',\n",
    "    'age': 25,\n",
    "    'city': 'Lahore'\n",
    "}\n",
    "\n",
    "people: list[Dict[str, str]] = [person, person2, person3]\n",
    "\n",
    "for person in people:\n",
    "    for k, v in person.items():\n",
    "        print(f'{k}: {v}')\n",
    "    print('\\n')\n",
    "\n"
   ]
  },
  {
   "cell_type": "code",
   "execution_count": 18,
   "metadata": {},
   "outputs": [
    {
     "name": "stdout",
     "output_type": "stream",
     "text": [
      "name: cat\n",
      "type: feline\n",
      "owners_name: Ali\n",
      "\n",
      "\n",
      "name: dog\n",
      "type: canine\n",
      "owners_name: Ahmad\n",
      "\n",
      "\n",
      "name: parrot\n",
      "type: avian\n",
      "owners_name: Hamzah\n",
      "\n",
      "\n"
     ]
    }
   ],
   "source": [
    "#8 Pets\n",
    "\n",
    "pet1: Dict[str, str] = {\n",
    "    'name': 'cat',\n",
    "    'type': 'feline',\n",
    "    'owners_name': 'Ali'\n",
    "}\n",
    "\n",
    "pet2: Dict[str, str] = {\n",
    "    'name': 'dog',\n",
    "    'type': 'canine',\n",
    "    'owners_name': 'Ahmad'\n",
    "}\n",
    "\n",
    "pet3: Dict[str, str] = {\n",
    "    'name': 'parrot',\n",
    "    'type': 'avian',\n",
    "    'owners_name': 'Hamzah'\n",
    "}\n",
    "\n",
    "pets: list[Dict[str, str]] = [pet1, pet2, pet3]\n",
    "\n",
    "for pet in pets:\n",
    "    for k, v in pet.items():\n",
    "        print(f'{k}: {v}')\n",
    "    print('\\n')"
   ]
  },
  {
   "cell_type": "code",
   "execution_count": 19,
   "metadata": {},
   "outputs": [
    {
     "name": "stdout",
     "output_type": "stream",
     "text": [
      "Hamzah: ['Lahore', 'Karachi', 'Islamabad']\n",
      "\n",
      "Haseeb: ['Faislabad', 'Peshawar', 'Rawalpindi']\n",
      "\n",
      "Ali: ['Islamad', 'Karachi', 'Lahore']\n",
      "\n"
     ]
    }
   ],
   "source": [
    "#9 Favorite Places\n",
    "\n",
    "favorite_places: Dict[str, str] = {\n",
    "    'Hamzah': ['Lahore', 'Karachi', 'Islamabad'],\n",
    "    'Haseeb': ['Faislabad', 'Peshawar', 'Rawalpindi'],\n",
    "    'Ali': ['Islamad', 'Karachi', 'Lahore']\n",
    "}\n",
    "\n",
    "for name, fav_places in favorite_places.items():\n",
    "    print(f'{name}: {fav_places}\\n')\n",
    "\n",
    "\n"
   ]
  },
  {
   "cell_type": "code",
   "execution_count": 5,
   "metadata": {},
   "outputs": [
    {
     "name": "stdout",
     "output_type": "stream",
     "text": [
      "Sir Zia: [63, 65, 70, 80]\n",
      "\n",
      "Sir Hamzah: [23, 70, 80]\n",
      "\n",
      "Sir Jahanzaib: [25, 65, 70]\n",
      "\n",
      "Sir Qasim: [30, 60, 65, 75, 80]\n",
      "\n",
      "Sir Ameen: [27, 65, 70, 80]\n",
      "\n"
     ]
    }
   ],
   "source": [
    "#10 Favorite Numbers\n",
    "\n",
    "from typing import Dict\n",
    "\n",
    "favorite_numbers: Dict[str, list[int]] = {\n",
    "    'Sir Zia': [63, 65, 70, 80],\n",
    "    'Sir Hamzah': [23, 70, 80],\n",
    "    'Sir Jahanzaib': [25, 65, 70],\n",
    "    'Sir Qasim': [30, 60, 65, 75, 80],\n",
    "    'Sir Ameen': [27, 65, 70, 80]\n",
    "}\n",
    "\n",
    "for name, fav_nums in favorite_numbers.items():\n",
    "    print(f'{name}: {fav_nums}\\n')"
   ]
  },
  {
   "cell_type": "code",
   "execution_count": null,
   "metadata": {},
   "outputs": [],
   "source": [
    "#11 Cities\n",
    "\n",
    "from typing import Union\n",
    "\n",
    "cities: Dict[str, Dict[str, Union[str, float]]] = {\n",
    "  'Lahore': {\n",
    "    'country': 'Pakistan',\n",
    "    'population': 11.137,  \n",
    "    'fact': \"Lahore is known as the 'City of Gardens' for its historical Mughal-era gardens.\"\n",
    "  },\n",
    "  'Makkah': {\n",
    "    'country': 'Saudi Arabia',\n",
    "    'population': 2.042,  \n",
    "    'fact': 'Makkah is the holiest city in Islam and the birthplace of Prophet Muhammad.'\n",
    "  },\n",
    "  'London': {\n",
    "    'country': 'United Kingdom',\n",
    "    'population': 8.982,  \n",
    "    'fact': 'The River Thames, which flows through London, is the second longest navigable river in England.'\n",
    "  }\n",
    "}\n"
   ]
  }
 ],
 "metadata": {
  "kernelspec": {
   "display_name": "python3.12.4",
   "language": "python",
   "name": "python3"
  },
  "language_info": {
   "codemirror_mode": {
    "name": "ipython",
    "version": 3
   },
   "file_extension": ".py",
   "mimetype": "text/x-python",
   "name": "python",
   "nbconvert_exporter": "python",
   "pygments_lexer": "ipython3",
   "version": "3.12.4"
  }
 },
 "nbformat": 4,
 "nbformat_minor": 2
}
