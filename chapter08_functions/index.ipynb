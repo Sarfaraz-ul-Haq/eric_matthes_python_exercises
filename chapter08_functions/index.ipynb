{
 "cells": [
  {
   "cell_type": "code",
   "execution_count": 1,
   "metadata": {},
   "outputs": [
    {
     "name": "stdout",
     "output_type": "stream",
     "text": [
      "I am learning functions in Python\n"
     ]
    }
   ],
   "source": [
    "#1 Message\n",
    "\n",
    "def display_message() -> None:\n",
    "    print(\"I am learning functions in Python\")\n",
    "\n",
    "display_message()"
   ]
  },
  {
   "cell_type": "code",
   "execution_count": 3,
   "metadata": {},
   "outputs": [
    {
     "name": "stdout",
     "output_type": "stream",
     "text": [
      "One of my favorite book is Astronomy for Beginners\n",
      "One of my favorite book is The Sealed Nectar\n",
      "One of my favorite book is Generative AI Foundations in Python\n"
     ]
    }
   ],
   "source": [
    "#2 Favorite Book\n",
    "\n",
    "def favorite_book(title: str) -> None:\n",
    "    print(f\"One of my favorite book is {title}\")\n",
    "\n",
    "favorite_book(\"Astronomy for Beginners\")\n",
    "favorite_book(\"The Sealed Nectar\")\n",
    "favorite_book(\"Generative AI Foundations in Python\")"
   ]
  },
  {
   "cell_type": "code",
   "execution_count": 4,
   "metadata": {},
   "outputs": [
    {
     "name": "stdout",
     "output_type": "stream",
     "text": [
      "The size of the shirt is 42 and the text written on it is textpjdvg \n",
      "The size of the shirt is 44 and the text written on it is textslfjsfs \n",
      "The size of the shirt is 46 and the text written on it is textsdf \n"
     ]
    }
   ],
   "source": [
    "#3 T-Shirt\n",
    "\n",
    "def make_shirt(size: str, text: str) -> None:\n",
    "    print(f\"The size of the shirt is {size} and the text written on it is {text} \")\n",
    "\n",
    "make_shirt(\"small\", \"textpjdvg\")\n",
    "make_shirt(size = \"medium\", text = \"textslfjsfs\")"
   ]
  },
  {
   "cell_type": "code",
   "execution_count": 7,
   "metadata": {},
   "outputs": [
    {
     "name": "stdout",
     "output_type": "stream",
     "text": [
      "The size of the shirt is large and the text written on it is I love Python\n",
      "The size of the shirt is medium and the text written on it is I love Python\n",
      "The size of the shirt is small and the text written on it is He who sweats more in training bleeds less in war.\n"
     ]
    }
   ],
   "source": [
    "#4 Large Shirts\n",
    "\n",
    "#3 T-Shirt\n",
    "\n",
    "def make_shirt(text: str = \"I love Python\", size: str = \"large\") -> None:\n",
    "    print(f\"The size of the shirt is {size} and the text written on it is {text}\")\n",
    "\n",
    "make_shirt()\n",
    "make_shirt(size = \"medium\")\n",
    "make_shirt(\"He who sweats more in training bleeds less in war.\", \"small\")\n",
    "\n"
   ]
  },
  {
   "cell_type": "code",
   "execution_count": 12,
   "metadata": {},
   "outputs": [
    {
     "name": "stdout",
     "output_type": "stream",
     "text": [
      "Lahore is in pakistan\n",
      "Islamabad is in pakistan\n",
      "London is in pakistan\n"
     ]
    }
   ],
   "source": [
    "#5 Cities\n",
    "\n",
    "def describe_city(city: str, country: str = \"pakistan\") -> None:\n",
    "    print(f\"{city} is in {country}\")\n",
    "\n",
    "describe_city(\"Lahore\")\n",
    "describe_city(\"Islamabad\")\n",
    "describe_city(\"London\")\n",
    "\n",
    "\n"
   ]
  },
  {
   "cell_type": "code",
   "execution_count": 15,
   "metadata": {},
   "outputs": [
    {
     "name": "stdout",
     "output_type": "stream",
     "text": [
      "Lahore, Pakistan\n",
      "London, United Kingdom\n",
      "Makkah, Saudia Arabia\n"
     ]
    }
   ],
   "source": [
    "#6 City Names\n",
    "\n",
    "def city_country(city: str, country: str) -> None:\n",
    "    return f\"{city}, {country}\"\n",
    "\n",
    "result = city_country(\"Lahore\", \"Pakistan\")\n",
    "print(result)\n",
    "result = city_country(\"London\", \"United Kingdom\")\n",
    "print(result)\n",
    "result = city_country(\"Makkah\", \"Saudia Arabia\")\n",
    "print(result)\n"
   ]
  }
 ],
 "metadata": {
  "kernelspec": {
   "display_name": "python3.12.4",
   "language": "python",
   "name": "python3"
  },
  "language_info": {
   "codemirror_mode": {
    "name": "ipython",
    "version": 3
   },
   "file_extension": ".py",
   "mimetype": "text/x-python",
   "name": "python",
   "nbconvert_exporter": "python",
   "pygments_lexer": "ipython3",
   "version": "3.12.4"
  }
 },
 "nbformat": 4,
 "nbformat_minor": 2
}
