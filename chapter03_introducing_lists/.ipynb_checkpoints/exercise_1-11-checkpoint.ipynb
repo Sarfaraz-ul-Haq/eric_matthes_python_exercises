{
 "cells": [
  {
   "cell_type": "code",
   "execution_count": 8,
   "metadata": {},
   "outputs": [
    {
     "name": "stdout",
     "output_type": "stream",
     "text": [
      "Momin\n",
      "Hasan\n",
      "Noman\n"
     ]
    }
   ],
   "source": [
    "#1 Names\n",
    "\n",
    "names: list[str] = [\"Momin\", \"Hasan\", \"Noman\"]\n",
    "print(names[0])\n",
    "print(names[1])\n",
    "print(names[2])"
   ]
  },
  {
   "cell_type": "code",
   "execution_count": 9,
   "metadata": {},
   "outputs": [
    {
     "name": "stdout",
     "output_type": "stream",
     "text": [
      "Hello Momin, how are you?\n",
      "Hello Hasan, how are you?\n",
      "Hello Noman, how are you?\n"
     ]
    }
   ],
   "source": [
    "#2 Greetings\n",
    "\n",
    "names: list[str] = [\"Momin\", \"Hasan\", \"Noman\"]\n",
    "print(f\"Hello {names[0]}, how are you?\")\n",
    "print(f\"Hello {names[1]}, how are you?\")\n",
    "print(f\"Hello {names[2]}, how are you?\")"
   ]
  },
  {
   "cell_type": "code",
   "execution_count": 10,
   "metadata": {},
   "outputs": [
    {
     "name": "stdout",
     "output_type": "stream",
     "text": [
      "I want to go to the Moon on Starship.\n",
      "I want to experience g-force in Virgin Galactic's VSS Unity spaceship.\n",
      "I would like to own a black BMW Car.\n",
      "I always dreamed of owning a Quad Bike as a kid.\n"
     ]
    }
   ],
   "source": [
    "#3 Your Own List\n",
    "\n",
    "favorite_veichles: list[str] = [\"Starship\", \"VSS Unity\", \"BMW Car\", \"Quad Bike\"]\n",
    "print(f\"I want to go to the Moon on {favorite_veichles[0]}.\")\n",
    "print(f\"I want to experience g-force in Virgin Galactic's {favorite_veichles[1]} spaceship.\")\n",
    "print(f\"I would like to own a black {favorite_veichles[2]}.\")\n",
    "print(f\"I always dreamed of owning a {favorite_veichles[3]} as a kid.\")"
   ]
  },
  {
   "cell_type": "code",
   "execution_count": 11,
   "metadata": {},
   "outputs": [
    {
     "name": "stdout",
     "output_type": "stream",
     "text": [
      "I would like to you invite you for dinner Sir Zia.\n",
      "I would like to you invite you for dinner Sir Jahanzaib.\n",
      "I would like to you invite you for dinner Sir Qasim.\n"
     ]
    }
   ],
   "source": [
    "#4 Guest List\n",
    "\n",
    "guest_list: list[str] = [\"Sir Zia\", \"Sir Jahanzaib\", \"Sir Qasim\"]\n",
    "print(f\"I would like to you invite you for dinner {guest_list[0]}.\")\n",
    "print(f\"I would like to you invite you for dinner {guest_list[1]}.\")\n",
    "print(f\"I would like to you invite you for dinner {guest_list[2]}.\")"
   ]
  },
  {
   "cell_type": "code",
   "execution_count": 12,
   "metadata": {},
   "outputs": [
    {
     "name": "stdout",
     "output_type": "stream",
     "text": [
      "I would like to you invite you for dinner Sir Zia.\n",
      "I would like to you invite you for dinner Sir Jahanzaib.\n",
      "I would like to you invite you for dinner Sir Qasim.\n",
      "Sir Qasim won't be able to come to dinner.\n",
      "I would like to you invite you for dinner Sir Zia.\n",
      "I would like to you invite you for dinner Sir Jahanzaib.\n",
      "I would like to you invite you for dinner Sir Ameen.\n"
     ]
    }
   ],
   "source": [
    "#5 Changing Guest List\n",
    "\n",
    "guest_list: list[str] = [\"Sir Zia\", \"Sir Jahanzaib\", \"Sir Qasim\"]\n",
    "\n",
    "print(f\"I would like to you invite you for dinner {guest_list[0]}.\")\n",
    "print(f\"I would like to you invite you for dinner {guest_list[1]}.\")\n",
    "print(f\"I would like to you invite you for dinner {guest_list[2]}.\")\n",
    "\n",
    "print(\"Sir Qasim won't be able to come to dinner.\")\n",
    "\n",
    "guest_list[2] = \"Sir Ameen\"\n",
    "\n",
    "print(f\"I would like to you invite you for dinner {guest_list[0]}.\")\n",
    "print(f\"I would like to you invite you for dinner {guest_list[1]}.\")\n",
    "print(f\"I would like to you invite you for dinner {guest_list[2]}.\")\n",
    "\n"
   ]
  },
  {
   "cell_type": "code",
   "execution_count": 13,
   "metadata": {},
   "outputs": [
    {
     "name": "stdout",
     "output_type": "stream",
     "text": [
      "I would like to you invite you for dinner Sir Zia.\n",
      "I would like to you invite you for dinner Sir Jahanzaib.\n",
      "I would like to you invite you for dinner Sir Qasim.\n",
      "Sir Qasim won't be able to come to dinner.\n",
      "I would like to you invite you for dinner Sir Zia.\n",
      "I would like to you invite you for dinner Sir Jahanzaib.\n",
      "I would like to you invite you for dinner Sir Ameen.\n",
      "I found a bigger table!\n",
      "I would like to you invite you for dinner Sir Daniyal.\n",
      "I would like to you invite you for dinner Sir Zia.\n",
      "I would like to you invite you for dinner Sir Hamzah.\n",
      "I would like to you invite you for dinner Sir Jahanzaib.\n",
      "I would like to you invite you for dinner Sir Ameen.\n"
     ]
    }
   ],
   "source": [
    "#6 More Guests\n",
    "\n",
    "guest_list: list[str] = [\"Sir Zia\", \"Sir Jahanzaib\", \"Sir Qasim\"]\n",
    "\n",
    "print(f\"I would like to you invite you for dinner {guest_list[0]}.\")\n",
    "print(f\"I would like to you invite you for dinner {guest_list[1]}.\")\n",
    "print(f\"I would like to you invite you for dinner {guest_list[2]}.\")\n",
    "\n",
    "print(\"Sir Qasim won't be able to come to dinner.\")\n",
    "\n",
    "guest_list[2] = \"Sir Ameen\"\n",
    "\n",
    "print(f\"I would like to you invite you for dinner {guest_list[0]}.\")\n",
    "print(f\"I would like to you invite you for dinner {guest_list[1]}.\")\n",
    "print(f\"I would like to you invite you for dinner {guest_list[2]}.\")\n",
    "\n",
    "print(\"I found a bigger table!\")\n",
    "\n",
    "guest_list.insert(0, \"Sir Daniyal\")\n",
    "guest_list.insert(2, \"Sir Hamzah\")\n",
    "guest_list.append(\"Sir Zeeshan\")\n",
    "\n",
    "print(f\"I would like to you invite you for dinner {guest_list[0]}.\")\n",
    "print(f\"I would like to you invite you for dinner {guest_list[1]}.\")\n",
    "print(f\"I would like to you invite you for dinner {guest_list[2]}.\")\n",
    "print(f\"I would like to you invite you for dinner {guest_list[3]}.\")\n",
    "print(f\"I would like to you invite you for dinner {guest_list[4]}.\")\n"
   ]
  },
  {
   "cell_type": "code",
   "execution_count": 14,
   "metadata": {},
   "outputs": [
    {
     "name": "stdout",
     "output_type": "stream",
     "text": [
      "I would like to you invite you for dinner Sir Zia.\n",
      "I would like to you invite you for dinner Sir Jahanzaib.\n",
      "I would like to you invite you for dinner Sir Qasim.\n",
      "Sir Qasim won't be able to come to dinner.\n",
      "I would like to you invite you for dinner Sir Zia.\n",
      "I would like to you invite you for dinner Sir Jahanzaib.\n",
      "I would like to you invite you for dinner Sir Ameen.\n",
      "I found a bigger table!\n",
      "I would like to you invite you for dinner Sir Daniyal.\n",
      "I would like to you invite you for dinner Sir Zia.\n",
      "I would like to you invite you for dinner Sir Hamzah.\n",
      "I would like to you invite you for dinner Sir Jahanzaib.\n",
      "I would like to you invite you for dinner Sir Ameen.\n",
      "I just found out that the dinner won't be able to arrive in time for dinner so I can invite only two people to dinner now.\n",
      "Sir Zeeshan, I'm sorry but I can't invite you for dinner.\n",
      "Sir Ameen, I'm sorry but I can't invite you for dinner.\n",
      "Sir Jahanzaib, I'm sorry but I can't invite you for dinner.\n",
      "Sir Hamzah, I'm sorry but I can't invite you for dinner.\n",
      "Sir Daniyal, you are still invited to dinner.\n",
      "Sir Zia, you are still invited to dinner.\n",
      "[]\n"
     ]
    }
   ],
   "source": [
    "#7 Shrinking Guest List\n",
    "\n",
    "guest_list: list[str] = [\"Sir Zia\", \"Sir Jahanzaib\", \"Sir Qasim\"]\n",
    "\n",
    "print(f\"I would like to you invite you for dinner {guest_list[0]}.\")\n",
    "print(f\"I would like to you invite you for dinner {guest_list[1]}.\")\n",
    "print(f\"I would like to you invite you for dinner {guest_list[2]}.\")\n",
    "\n",
    "print(\"Sir Qasim won't be able to come to dinner.\")\n",
    "\n",
    "guest_list[2] = \"Sir Ameen\"\n",
    "\n",
    "print(f\"I would like to you invite you for dinner {guest_list[0]}.\")\n",
    "print(f\"I would like to you invite you for dinner {guest_list[1]}.\")\n",
    "print(f\"I would like to you invite you for dinner {guest_list[2]}.\")\n",
    "\n",
    "print(\"I found a bigger table!\")\n",
    "\n",
    "guest_list.insert(0, \"Sir Daniyal\")\n",
    "guest_list.insert(2, \"Sir Hamzah\")\n",
    "guest_list.append(\"Sir Zeeshan\")\n",
    "\n",
    "print(f\"I would like to you invite you for dinner {guest_list[0]}.\")\n",
    "print(f\"I would like to you invite you for dinner {guest_list[1]}.\")\n",
    "print(f\"I would like to you invite you for dinner {guest_list[2]}.\")\n",
    "print(f\"I would like to you invite you for dinner {guest_list[3]}.\")\n",
    "print(f\"I would like to you invite you for dinner {guest_list[4]}.\")\n",
    "\n",
    "print(\"I just found out that the dinner won't be able to arrive in time for dinner so I can invite only two people to dinner now.\")\n",
    "\n",
    "removed_person: str = guest_list.pop()\n",
    "print(f\"{removed_person}, I'm sorry but I can't invite you for dinner.\")\n",
    "removed_person: str = guest_list.pop()\n",
    "print(f\"{removed_person}, I'm sorry but I can't invite you for dinner.\")\n",
    "removed_person: str = guest_list.pop()\n",
    "print(f\"{removed_person}, I'm sorry but I can't invite you for dinner.\")\n",
    "removed_person: str = guest_list.pop()\n",
    "print(f\"{removed_person}, I'm sorry but I can't invite you for dinner.\")\n",
    "\n",
    "print(f\"{guest_list[0]}, you are still invited to dinner.\")\n",
    "print(f\"{guest_list[1]}, you are still invited to dinner.\")\n",
    "\n",
    "del guest_list[0]\n",
    "del guest_list[0]\n",
    "\n",
    "print(guest_list)\n",
    "\n",
    "\n"
   ]
  },
  {
   "cell_type": "code",
   "execution_count": 9,
   "metadata": {},
   "outputs": [
    {
     "name": "stdout",
     "output_type": "stream",
     "text": [
      "['Kennedy Space Center', 'Amazon Rainforest', 'Makkah', 'Madinah', 'Johnson Space Center']\n",
      "['Amazon Rainforest', 'Johnson Space Center', 'Kennedy Space Center', 'Madinah', 'Makkah']\n",
      "['Kennedy Space Center', 'Amazon Rainforest', 'Makkah', 'Madinah', 'Johnson Space Center']\n",
      "['Makkah', 'Madinah', 'Kennedy Space Center', 'Johnson Space Center', 'Amazon Rainforest']\n",
      "['Kennedy Space Center', 'Amazon Rainforest', 'Makkah', 'Madinah', 'Johnson Space Center']\n"
     ]
    }
   ],
   "source": [
    "#8 Seeing The World\n",
    "\n",
    "locations: list[str] = [\"Kennedy Space Center\", \"Amazon Rainforest\", \"Makkah\", \"Madinah\", \"Johnson Space Center\"]\n",
    "\n",
    "print(locations)\n",
    "print(sorted(locations))\n",
    "print(locations)\n",
    "print(sorted(locations, reverse = True))\n",
    "print(locations)\n",
    "\n",
    "\n",
    "\n"
   ]
  },
  {
   "cell_type": "code",
   "execution_count": null,
   "metadata": {},
   "outputs": [],
   "source": []
  },
  {
   "cell_type": "code",
   "execution_count": null,
   "metadata": {},
   "outputs": [],
   "source": []
  },
  {
   "cell_type": "code",
   "execution_count": null,
   "metadata": {},
   "outputs": [],
   "source": []
  },
  {
   "cell_type": "code",
   "execution_count": null,
   "metadata": {},
   "outputs": [],
   "source": []
  }
 ],
 "metadata": {
  "kernelspec": {
   "display_name": "Python 3 (ipykernel)",
   "language": "python",
   "name": "python3"
  },
  "language_info": {
   "codemirror_mode": {
    "name": "ipython",
    "version": 3
   },
   "file_extension": ".py",
   "mimetype": "text/x-python",
   "name": "python",
   "nbconvert_exporter": "python",
   "pygments_lexer": "ipython3",
   "version": "3.12.0"
  }
 },
 "nbformat": 4,
 "nbformat_minor": 4
}
