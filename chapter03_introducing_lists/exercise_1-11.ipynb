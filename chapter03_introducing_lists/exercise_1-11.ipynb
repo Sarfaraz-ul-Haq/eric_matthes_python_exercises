{
 "cells": [
  {
   "cell_type": "code",
   "execution_count": 2,
   "metadata": {},
   "outputs": [
    {
     "name": "stdout",
     "output_type": "stream",
     "text": [
      "Momin\n",
      "Hasan\n",
      "Noman\n"
     ]
    }
   ],
   "source": [
    "#1 Names\n",
    "names: list[str] = [\"Momin\", \"Hasan\", \"Noman\"]\n",
    "print(names[0])\n",
    "print(names[1])\n",
    "print(names[2])"
   ]
  },
  {
   "cell_type": "code",
   "execution_count": 4,
   "metadata": {},
   "outputs": [
    {
     "name": "stdout",
     "output_type": "stream",
     "text": [
      "Hello Momin, how are you?\n",
      "Hello Hasan, how are you?\n",
      "Hello Noman, how are you?\n"
     ]
    }
   ],
   "source": [
    "#2 Greetings\n",
    "names: list[str] = [\"Momin\", \"Hasan\", \"Noman\"]\n",
    "print(f\"Hello {names[0]}, how are you?\")\n",
    "print(f\"Hello {names[1]}, how are you?\")\n",
    "print(f\"Hello {names[2]}, how are you?\")"
   ]
  },
  {
   "cell_type": "code",
   "execution_count": 8,
   "metadata": {},
   "outputs": [
    {
     "name": "stdout",
     "output_type": "stream",
     "text": [
      "I want to go to the Moon on Starship.\n",
      "I want to experience g-force in Virgin Galactic's VSS Unity spaceship.\n",
      "I would like to own a black BMW Car.\n",
      "I always dreamed of owning a Quad Bike as a kid.\n"
     ]
    }
   ],
   "source": [
    "#3 Your Own List\n",
    "favorite_veichles: list[str] = [\"Starship\", \"VSS Unity\", \"BMW Car\", \"Quad Bike\"]\n",
    "print(f\"I want to go to the Moon on {favorite_veichles[0]}.\")\n",
    "print(f\"I want to experience g-force in Virgin Galactic's {favorite_veichles[1]} spaceship.\")\n",
    "print(f\"I would like to own a black {favorite_veichles[2]}.\")\n",
    "print(f\"I always dreamed of owning a {favorite_veichles[3]} as a kid.\")"
   ]
  },
  {
   "cell_type": "code",
   "execution_count": null,
   "metadata": {},
   "outputs": [],
   "source": [
    "#4 "
   ]
  },
  {
   "cell_type": "code",
   "execution_count": null,
   "metadata": {},
   "outputs": [],
   "source": []
  },
  {
   "cell_type": "code",
   "execution_count": null,
   "metadata": {},
   "outputs": [],
   "source": []
  },
  {
   "cell_type": "code",
   "execution_count": null,
   "metadata": {},
   "outputs": [],
   "source": []
  },
  {
   "cell_type": "code",
   "execution_count": null,
   "metadata": {},
   "outputs": [],
   "source": []
  },
  {
   "cell_type": "code",
   "execution_count": null,
   "metadata": {},
   "outputs": [],
   "source": []
  },
  {
   "cell_type": "code",
   "execution_count": null,
   "metadata": {},
   "outputs": [],
   "source": []
  },
  {
   "cell_type": "code",
   "execution_count": null,
   "metadata": {},
   "outputs": [],
   "source": []
  }
 ],
 "metadata": {
  "kernelspec": {
   "display_name": "python12",
   "language": "python",
   "name": "python3"
  },
  "language_info": {
   "codemirror_mode": {
    "name": "ipython",
    "version": 3
   },
   "file_extension": ".py",
   "mimetype": "text/x-python",
   "name": "python",
   "nbconvert_exporter": "python",
   "pygments_lexer": "ipython3",
   "version": "3.12.0"
  }
 },
 "nbformat": 4,
 "nbformat_minor": 2
}
